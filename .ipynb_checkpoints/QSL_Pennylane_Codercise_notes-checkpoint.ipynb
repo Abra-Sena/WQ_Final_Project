{
 "cells": [
  {
   "cell_type": "markdown",
   "id": "53b6330a-bc5c-4fd9-b0b3-766c218ddc15",
   "metadata": {},
   "source": [
    "# Quantuam Machine Learning - Familiarization with Pennylane"
   ]
  },
  {
   "cell_type": "markdown",
   "id": "1cf2406c-3032-419c-81e3-63a9bfdf190c",
   "metadata": {},
   "source": [
    "### Introduction to Quantum Computing\n",
    "This codebook exercises delve into the fundamental concepts of quantum computing using QML and the Pennylane platform. We learned how to repreent quibt states in different mathematical notations and how to apply operations on them. From normalization of a vector into a quantum state, to applying quantum operations and measuring outcome probabilities. We also explored quatum circuit and their gates with the use of QNode to represent the circuit in Pennylane. Here, we built circuit from sample picture and learned to visual perform measure the depth as well as transforming quatum circuits into QNode with the function qml.QNode() or the decorator @qml.qnode(device_name).\n",
    "\n",
    "\n",
    "### Single-Qubit Gates\n",
    "We explore different gates operations and their effects on a single-qubit. In Pennyvale, qubits start in state 0 by default but one could need the state 1 instead. The Pauli X gate application help to make that flip from 0 to 1, so we explore it alog with its matrix representation and the associated eigenvalues. In quatum computing, uniform superposition is important and the Hadamard gate creates one on the states for quantum algorithms and is widely used.\n",
    "\n",
    "The Pauli Z gate's application affectvthe computational basis of the states: state 0 remained unchanged while state 1 is flipped to -1, an amplitude change is observed here which is helpufl for relative phases changes. In addition, we evaluated the action of the RZ or Z rotation gate, which handles relative phase changes between states 0 and 1 with PI as the angle of rotation. We explored gates S (phase) and T which respectively handles quarter PI turn and eighth PI turn rotation. Similar gates to the RZ rotation that we explored are: RX, RY rotations\n",
    "\n",
    "These gates can also be transformed to an operation with the fucntion qml.adjoint, creating adjoints. A combination of sequences of two gates from the set {RX, RY, RZ} can form a universal gate set for operations on single-qubit quantum circuit: example of gates RZ and RY to do same operations as the Rot gate, or RZ and RX to form the Hadamard gate with specific angles for the rotations. H and T gates are also universal, and a sequence of their combinations can approximate any single-qubit operation.\n",
    "\n",
    "\n",
    "\n",
    "### Circuits with Many Qubits\n",
    "We delve into gates and more quatum operations on circuit of multiple qubits."
   ]
  },
  {
   "cell_type": "code",
   "execution_count": null,
   "id": "8deb85b1-2a0c-4026-a652-ee7a06d454c0",
   "metadata": {},
   "outputs": [],
   "source": []
  }
 ],
 "metadata": {
  "kernelspec": {
   "display_name": "Python 3 (ipykernel)",
   "language": "python",
   "name": "python3"
  },
  "language_info": {
   "codemirror_mode": {
    "name": "ipython",
    "version": 3
   },
   "file_extension": ".py",
   "mimetype": "text/x-python",
   "name": "python",
   "nbconvert_exporter": "python",
   "pygments_lexer": "ipython3",
   "version": "3.11.9"
  }
 },
 "nbformat": 4,
 "nbformat_minor": 5
}
